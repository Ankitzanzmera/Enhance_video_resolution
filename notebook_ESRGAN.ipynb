{
  "cells": [
    {
      "cell_type": "markdown",
      "metadata": {
        "id": "yM2uZOQpGBf3"
      },
      "source": [
        "# Setup"
      ]
    },
    {
      "cell_type": "code",
      "execution_count": null,
      "metadata": {
        "colab": {
          "base_uri": "https://localhost:8080/"
        },
        "id": "vbyVXd3uBx2E",
        "outputId": "47187140-e4ba-4daa-c603-6dad368faedd"
      },
      "outputs": [
        {
          "name": "stdout",
          "output_type": "stream",
          "text": [
            "Mounted at /content/drive\n"
          ]
        }
      ],
      "source": [
        "from google.colab import drive\n",
        "drive.mount('/content/drive')"
      ]
    },
    {
      "cell_type": "code",
      "execution_count": null,
      "metadata": {
        "colab": {
          "base_uri": "https://localhost:8080/"
        },
        "id": "dhuDnucOC7Bn",
        "outputId": "298ebe94-e4e1-4172-c280-70499da7eb0d"
      },
      "outputs": [
        {
          "name": "stdout",
          "output_type": "stream",
          "text": [
            "[Errno 2] No such file or directory: '/content/drive/MyDrive/Notebooks/task_ESRGAN'\n",
            "/content\n"
          ]
        }
      ],
      "source": [
        "%cd /content/drive/MyDrive/Notebooks/task_ESRGAN"
      ]
    },
    {
      "cell_type": "code",
      "execution_count": null,
      "metadata": {
        "colab": {
          "base_uri": "https://localhost:8080/"
        },
        "id": "0Q44uxedD8G1",
        "outputId": "8a7a52e2-c4bb-46f5-a478-552f6d1cd2af"
      },
      "outputs": [
        {
          "name": "stdout",
          "output_type": "stream",
          "text": [
            "Cloning into 'Real-ESRGAN'...\n",
            "remote: Enumerating objects: 755, done.\u001b[K\n",
            "remote: Total 755 (delta 0), reused 0 (delta 0), pack-reused 755\u001b[K\n",
            "Receiving objects: 100% (755/755), 5.37 MiB | 6.38 MiB/s, done.\n",
            "Resolving deltas: 100% (410/410), done.\n"
          ]
        }
      ],
      "source": [
        "!git clone https://github.com/xinntao/Real-ESRGAN.git"
      ]
    },
    {
      "cell_type": "code",
      "execution_count": null,
      "metadata": {
        "colab": {
          "base_uri": "https://localhost:8080/"
        },
        "id": "bYaxyuWCEM6D",
        "outputId": "902c7b36-f016-4a28-a7f0-348bfecf25b4"
      },
      "outputs": [
        {
          "name": "stdout",
          "output_type": "stream",
          "text": [
            "/content/drive/MyDrive/Notebooks/task_ESRGAN/Real-ESRGAN\n"
          ]
        }
      ],
      "source": [
        "%cd Real-ESRGAN"
      ]
    },
    {
      "cell_type": "code",
      "execution_count": null,
      "metadata": {
        "colab": {
          "base_uri": "https://localhost:8080/"
        },
        "id": "zZHFnF3JEqM5",
        "outputId": "93554d75-456d-44a7-da8e-6a2ea24f2af7"
      },
      "outputs": [
        {
          "name": "stdout",
          "output_type": "stream",
          "text": [
            "/content/drive/MyDrive/Notebooks/task_ESRGAN/Real-ESRGAN/experiments/pretrained_models\n"
          ]
        }
      ],
      "source": [
        "%cd experiments/pretrained_models"
      ]
    },
    {
      "cell_type": "code",
      "execution_count": null,
      "metadata": {
        "id": "jHhrTDdbFRKD"
      },
      "outputs": [],
      "source": [
        "!wget https://github.com/xinntao/Real-ESRGAN/releases/download/v0.1.0/RealESRGAN_x4plus.pth"
      ]
    },
    {
      "cell_type": "code",
      "execution_count": null,
      "metadata": {
        "id": "h4qwQqyCFbG8"
      },
      "outputs": [],
      "source": [
        "%cd /content/drive/MyDrive/Notebooks/task_ESRGAN/Real-ESRGAN/\n",
        "!pip install -r requirements.txt"
      ]
    },
    {
      "cell_type": "code",
      "execution_count": null,
      "metadata": {
        "colab": {
          "base_uri": "https://localhost:8080/"
        },
        "id": "W42J_qyVFjWs",
        "outputId": "953635d3-9954-443e-d794-4bb349f555cd"
      },
      "outputs": [
        {
          "name": "stdout",
          "output_type": "stream",
          "text": [
            "/content/drive/MyDrive/Notebooks/task_ESRGAN\n"
          ]
        }
      ],
      "source": [
        "%cd /content/drive/MyDrive/Notebooks/task_ESRGAN"
      ]
    },
    {
      "cell_type": "code",
      "execution_count": null,
      "metadata": {
        "colab": {
          "base_uri": "https://localhost:8080/"
        },
        "id": "AW5UiNucFkpd",
        "outputId": "94323329-b73d-4b6f-9342-35c1c6eb47af"
      },
      "outputs": [
        {
          "name": "stdout",
          "output_type": "stream",
          "text": [
            "\u001b[0m\u001b[01;34menhanced_frames\u001b[0m/  \u001b[01;34minput_videos\u001b[0m/  \u001b[01;34mReal-ESRGAN\u001b[0m/\n"
          ]
        }
      ],
      "source": [
        "%ls"
      ]
    },
    {
      "cell_type": "markdown",
      "metadata": {
        "id": "qNKh1P0zGKTr"
      },
      "source": [
        "# Convert Video into Frames"
      ]
    },
    {
      "cell_type": "code",
      "execution_count": null,
      "metadata": {
        "colab": {
          "base_uri": "https://localhost:8080/"
        },
        "id": "LYlcuYhLQuq4",
        "outputId": "fa3a40e1-b8a8-47a7-f18f-15730fb0c878"
      },
      "outputs": [
        {
          "name": "stderr",
          "output_type": "stream",
          "text": [
            "100%|██████████| 1848/1848 [01:11<00:00, 25.84it/s]\n"
          ]
        }
      ],
      "source": [
        "import cv2\n",
        "from tqdm import tqdm\n",
        "import os\n",
        "\n",
        "# Set the paths in Google Colab\n",
        "video_frames_path = \"/content/drive/MyDrive/Notebooks/task_ESRGAN/video_frames\"\n",
        "input_videos_path = \"/content/drive/MyDrive/Notebooks/task_ESRGAN/input_videos\"\n",
        "\n",
        "# Create the video_frames directory if it doesn't exist\n",
        "os.makedirs(video_frames_path, exist_ok=True)\n",
        "\n",
        "for video_name in os.listdir(input_videos_path):\n",
        "    video_path = os.path.join(input_videos_path, video_name)\n",
        "    frame_path = os.path.join(video_frames_path, os.path.splitext(video_name)[0])\n",
        "\n",
        "    # Create the frame directory if it doesn't exist\n",
        "    os.makedirs(frame_path, exist_ok=True)\n",
        "\n",
        "    video_cap = cv2.VideoCapture(video_path)\n",
        "    frame_count = int(video_cap.get(cv2.CAP_PROP_FRAME_COUNT))\n",
        "\n",
        "    for i in tqdm(range(frame_count)):\n",
        "        is_success, frames = video_cap.read()\n",
        "        if not is_success:\n",
        "            break  # Break the loop if there are no more frames\n",
        "\n",
        "        path_frame = os.path.join(frame_path, f\"{i}.jpg\")\n",
        "        cv2.imwrite(path_frame, frames)\n",
        "\n",
        "    video_cap.release()\n"
      ]
    },
    {
      "cell_type": "markdown",
      "metadata": {
        "id": "tD6hmRMPRvID"
      },
      "source": [
        "# Feed Each Frame to Model"
      ]
    },
    {
      "cell_type": "code",
      "execution_count": null,
      "metadata": {
        "colab": {
          "base_uri": "https://localhost:8080/"
        },
        "id": "6gnPbcGJUni3",
        "outputId": "f8f6ae13-9339-4b1c-e5f7-865a9b6a2c77"
      },
      "outputs": [
        {
          "name": "stdout",
          "output_type": "stream",
          "text": [
            "/content/drive/MyDrive/Notebooks/task_ESRGAN/Real-ESRGAN\n"
          ]
        }
      ],
      "source": [
        "%cd /content/drive/MyDrive/Notebooks/task_ESRGAN/Real-ESRGAN"
      ]
    },
    {
      "cell_type": "code",
      "execution_count": null,
      "metadata": {
        "id": "g1rNTVFmQ5f-"
      },
      "outputs": [],
      "source": [
        "import os\n",
        "splitted_frame_path = \"/content/drive/MyDrive/Notebooks/task_ESRGAN/video_frames\"\n",
        "enhanced_frame_path = \"/content/drive/MyDrive/Notebooks/task_ESRGAN/enhanced_frames\"\n",
        "os.makedirs(enhanced_frame_path,exist_ok = True)"
      ]
    },
    {
      "cell_type": "code",
      "execution_count": null,
      "metadata": {
        "colab": {
          "background_save": true
        },
        "id": "bXMxTJZgSjA2"
      },
      "outputs": [],
      "source": [
        "for dir in os.listdir(splitted_frame_path):\n",
        "  for frames in os.listdir(os.path.join(splitted_frame_path,dir)):\n",
        "    input_path = os.path.join(splitted_frame_path,dir,frames)\n",
        "    output_path = os.path.join(enhanced_frame_path,dir)\n",
        "      !python inference_realesrgan.py --model_name RealESRGAN_x4plus -i $input -o $output --outscale 4 --face_enhance --fp32 -dn 1"
      ]
    },
    {
      "cell_type": "markdown",
      "metadata": {
        "id": "4AQ9EjcF9Ydz"
      },
      "source": [
        "# Convert Enhanced Frames into Videos"
      ]
    },
    {
      "cell_type": "code",
      "execution_count": null,
      "metadata": {
        "id": "TWmLW-yAf-XC"
      },
      "outputs": [],
      "source": [
        "import os\n",
        "import cv2\n",
        "from tqdm import tqdm\n",
        "from pathlib import Path\n",
        "\n",
        "\n",
        "def merge_frames_to_videos():\n",
        "    input_video_path = \"input_videos/\"\n",
        "    enhanced_frame_path = \"enhanced_frames/\"\n",
        "    out_path = \"output_videos\"\n",
        "    os.makedirs(out_path,exist_ok=True)\n",
        "\n",
        "    for frame_dir in os.listdir(enhanced_frame_path):\n",
        "\n",
        "        video_path = os.path.join(input_video_path,f\"{frame_dir}.mp4\")\n",
        "        video_capture = cv2.VideoCapture(video_path)\n",
        "        fps = video_capture.get(cv2.CAP_PROP_FPS)  ## Gets FPS from Original Video files\n",
        "\n",
        "        list_image_files = os.listdir(os.path.join(enhanced_frame_path,frame_dir))\n",
        "        list_image_files = sorted(list_image_files,key = lambda x: int(x.split(\"_\")[0]))  ## sorting all files\n",
        "        print(list_image_files)\n",
        "\n",
        "        merge_images = []\n",
        "        for image_file in tqdm(list_image_files):\n",
        "            image = cv2.imread(f\"{enhanced_frame_path}/{frame_dir}/{image_file}\")\n",
        "            merge_images.append(image)\n",
        "        # print(merge_images)\n",
        "\n",
        "        output_path = os.path.join(out_path,f\"{frame_dir}.mp4\")\n",
        "        fourcc = cv2.VideoWriter_fourcc(*\"mp4v\")\n",
        "        video_writer = cv2.VideoWriter(output_path,fourcc,fps,(merge_images[0].shape[1],merge_images[0].shape[0]))\n",
        "\n",
        "        for image in tqdm(merge_images):\n",
        "            video_writer.write(image)\n",
        "\n",
        "        video_writer.release()\n",
        "        cv2.destroyAllWindows()\n",
        "\n",
        "if __name__ ==\"__main__\":\n",
        "    merge_frames_to_videos()"
      ]
    }
  ],
  "metadata": {
    "colab": {
      "provenance": []
    },
    "kernelspec": {
      "display_name": "Python 3",
      "name": "python3"
    },
    "language_info": {
      "name": "python"
    }
  },
  "nbformat": 4,
  "nbformat_minor": 0
}